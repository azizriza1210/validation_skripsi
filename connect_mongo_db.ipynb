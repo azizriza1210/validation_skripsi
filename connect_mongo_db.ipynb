{
 "cells": [
  {
   "cell_type": "code",
   "execution_count": null,
   "id": "5844ef6e",
   "metadata": {},
   "outputs": [
    {
     "name": "stdout",
     "output_type": "stream",
     "text": [
      "Pinged your deployment. You successfully connected to MongoDB!\n"
     ]
    }
   ],
   "source": [
    "from pymongo.mongo_client import MongoClient\n",
    "from pymongo.server_api import ServerApi\n",
    "\n",
    "uri = \"mongodb+srv://validasi:<password>@validasi.57paaa9.mongodb.net/?appName=Validasi\"\n",
    "\n",
    "# Create a new client and connect to the server\n",
    "client = MongoClient(uri, server_api=ServerApi('1'))\n",
    "\n",
    "# Send a ping to confirm a successful connection\n",
    "try:\n",
    "    client.admin.command('ping')\n",
    "    print(\"Pinged your deployment. You successfully connected to MongoDB!\")\n",
    "except Exception as e:\n",
    "    print(e)"
   ]
  },
  {
   "cell_type": "code",
   "execution_count": 7,
   "id": "7d1e34cb",
   "metadata": {},
   "outputs": [],
   "source": [
    "db = client['validation_database']"
   ]
  },
  {
   "cell_type": "code",
   "execution_count": 8,
   "id": "6c07b8fc",
   "metadata": {},
   "outputs": [
    {
     "name": "stdout",
     "output_type": "stream",
     "text": [
      "Daftar Koleksi:\n",
      "- validation_collection\n"
     ]
    }
   ],
   "source": [
    "collections = db.list_collection_names()\n",
    "print(\"Daftar Koleksi:\")\n",
    "for collection_name in collections:\n",
    "    print(f\"- {collection_name}\")"
   ]
  },
  {
   "cell_type": "code",
   "execution_count": 12,
   "id": "3b0ef023",
   "metadata": {},
   "outputs": [
    {
     "name": "stdout",
     "output_type": "stream",
     "text": [
      "\n",
      "Isi Koleksi 'validation_collection':\n",
      "Apakah dengan adanya RUU TNI  membuat TNI makin memiliki kuasa dan membuat masyarakat khawatir akan bebasnya penggunaan senjata dalam ranah sipil?\n"
     ]
    }
   ],
   "source": [
    "for collection_name in collections:\n",
    "    collection = db[collection_name]\n",
    "    print(f\"\\nIsi Koleksi '{collection_name}':\")\n",
    "    for document in collection.find():\n",
    "        print(document['chat'])"
   ]
  }
 ],
 "metadata": {
  "kernelspec": {
   "display_name": "skripsi",
   "language": "python",
   "name": "python3"
  },
  "language_info": {
   "codemirror_mode": {
    "name": "ipython",
    "version": 3
   },
   "file_extension": ".py",
   "mimetype": "text/x-python",
   "name": "python",
   "nbconvert_exporter": "python",
   "pygments_lexer": "ipython3",
   "version": "3.10.16"
  }
 },
 "nbformat": 4,
 "nbformat_minor": 5
}
